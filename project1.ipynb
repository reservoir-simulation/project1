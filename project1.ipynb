{
 "cells": [
  {
   "cell_type": "markdown",
   "metadata": {},
   "source": [
    "# Project 1\n",
    "\n",
    "Given the following topographical map\n",
    "\n",
    "![img](images/nechelik_depth.png)\n",
    "\n",
    "\n",
    "Implement the Python function `extrapolate_depth()` below to interpolate/extrapolate the depth information contained in the topographic map to a grid overlaying the field.  The function should take three arguements, a `filename`, and $N_x$ and $N_y$ cooresponding to the number of grid points to interpolate to in the $x$ and $y$ directions, respectively.  The grid points should be considered the center of blocks that span the entire domain in each direction.  Use the left edge of the field as the $x=0$ datum and the top of the field as the $y=0$ datum.  Each grid on the map spans $523$ ft.\n",
    "\n",
    "To digitize the topographic map, use the web-based [WebPlotDigitizer](http://arohatgi.info/WebPlotDigitizer/app/?), and refer to the [YouTube tutorial](http://youtu.be/5J-nKIy0bGo) for help. The user interface has changed a little since recording this video, but the basic ideas and usage are the same.  An additional resource for help is located [here](https://automeris.io/WebPlotDigitizer/tutorial.html).  Please name your data file `'Nechelik_Data.csv'` and add be sure to add it to the repository upon submission.\n",
    "\n",
    "The function `extrapolate_depth()` should return an array with $N_y$ rows and $N_x$ columns containing the depth values (this is the natural way the SciPy function `griddata()` will return values).  The test checks for the acccuracy of a section of this data away from the boundaries of the field.  The tolerance on the tests is loose enough, such that small errors in digitizing the data will not cause the test to fail.  I have verified this myself with multiple digitizations.\n",
    "\n",
    "You should use a 2-step interpolate then extrapolate procedure.  First, interpolate the data with `griddata()` using the `method=cubic` option.  This will give you a high-accuracy interpolation, but only inside the [convex hull](https://en.wikipedia.org/wiki/Convex_hull) of the digitized data.  To extend the data to the boundaries of the reservoir use the newly interpolated values as the data in an additional call to `griddata()` this time using the `method=nearest` option.  This will fill in the rest of the domain with constant values according to the value of the nearest data point.  Next, replace any unphysical values, i.e. negative depths, with 0.0.  Finally, you should *mask* the final values with `nan` for any ($x,y$) grid point location outside the boundaries of the domain.  This will allow you to easily create a contour plot like this one\n",
    "\n",
    "![img](images/contour.png)\n",
    "\n",
    "Plots may be useful for checking the *sanity* of your results, but it's the actual values that will be tested.  Your final submission and function `extraploate_depth()` should not contain any plot commands."
   ]
  },
  {
   "cell_type": "code",
   "execution_count": 3,
   "metadata": {},
   "outputs": [],
   "source": [
    "def extrapolate_depth(filename, Nx, Ny):\n",
    "    \n",
    "    return #depth values"
   ]
  }
 ],
 "metadata": {
  "kernelspec": {
   "display_name": "Python 3",
   "language": "python",
   "name": "python3"
  },
  "language_info": {
   "codemirror_mode": {
    "name": "ipython",
    "version": 3
   },
   "file_extension": ".py",
   "mimetype": "text/x-python",
   "name": "python",
   "nbconvert_exporter": "python",
   "pygments_lexer": "ipython3",
   "version": "3.6.5"
  }
 },
 "nbformat": 4,
 "nbformat_minor": 2
}
